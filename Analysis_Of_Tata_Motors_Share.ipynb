{
  "nbformat": 4,
  "nbformat_minor": 0,
  "metadata": {
    "colab": {
      "name": "Analysis Of Tata Motors Share.ipynb",
      "provenance": [],
      "collapsed_sections": []
    },
    "kernelspec": {
      "name": "python3",
      "display_name": "Python 3"
    },
    "language_info": {
      "name": "python"
    }
  },
  "cells": [
    {
      "cell_type": "code",
      "metadata": {
        "id": "rCZr8GewAso8"
      },
      "source": [
        "pip install jupyter-dash -q  #Installing the Jupyter Dash library which we would using for making our Dashboard."
      ],
      "execution_count": 34,
      "outputs": []
    },
    {
      "cell_type": "code",
      "metadata": {
        "colab": {
          "resources": {
            "http://localhost:8080/nbextensions/google.colab/files.js": {
              "data": "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",
              "ok": true,
              "headers": [
                [
                  "content-type",
                  "application/javascript"
                ]
              ],
              "status": 200,
              "status_text": ""
            }
          },
          "base_uri": "https://localhost:8080/",
          "height": 73
        },
        "id": "CaKMJtE3CBJC",
        "outputId": "a5405fa8-7197-4285-d966-4d00f76e2b90"
      },
      "source": [
        "#This section of the code is used to upload our .csv dataset to Google Colabo\n",
        "from google.colab import files\n",
        "uploaded = files.upload()"
      ],
      "execution_count": 35,
      "outputs": [
        {
          "output_type": "display_data",
          "data": {
            "text/html": [
              "\n",
              "     <input type=\"file\" id=\"files-2bad0264-2883-43ff-b7a1-ca53f8f88fc2\" name=\"files[]\" multiple disabled\n",
              "        style=\"border:none\" />\n",
              "     <output id=\"result-2bad0264-2883-43ff-b7a1-ca53f8f88fc2\">\n",
              "      Upload widget is only available when the cell has been executed in the\n",
              "      current browser session. Please rerun this cell to enable.\n",
              "      </output>\n",
              "      <script src=\"/nbextensions/google.colab/files.js\"></script> "
            ],
            "text/plain": [
              "<IPython.core.display.HTML object>"
            ]
          },
          "metadata": {}
        },
        {
          "output_type": "stream",
          "name": "stdout",
          "text": [
            "Saving tata.csv to tata (1).csv\n"
          ]
        }
      ]
    },
    {
      "cell_type": "code",
      "metadata": {
        "id": "JAyLtCa34BZ0",
        "colab": {
          "base_uri": "https://localhost:8080/",
          "height": 671
        },
        "outputId": "d52491b6-461c-4c55-aca8-dbc5565f9a9c"
      },
      "source": [
        "#Importing the required modules form the respective Libraries (lines 3-9)\n",
        "\n",
        "from jupyter_dash import JupyterDash\n",
        "from dash import dcc\n",
        "from dash import html\n",
        "import pandas as pd\n",
        "import numpy as np\n",
        "from dash.dependencies import Output, Input\n",
        "import plotly.graph_objects as go\n",
        "\n",
        "#Through this section of the code we are reading the tata motors dataset and extracting the required information from it (lines 13-19)\n",
        "\n",
        "data = pd.read_csv(\"tata.csv\")\n",
        "data[\"Date\"] = pd.to_datetime(data[\"Date\"], format=\"%Y-%m-%d\")\n",
        "data.sort_values(\"Date\", inplace=True)\n",
        "\n",
        "options=list(data.columns)[1:5]\n",
        "options.append('Open v/s Close')\n",
        "options.append('High v/s Low')\n",
        "\n",
        "#Here we are creating an instance of the Jupyter Dash Class\n",
        "app = JupyterDash(__name__)\n",
        "\n",
        "#The layout detrmines the looks of the application\n",
        "app.layout = html.Div( #It represents a Division\n",
        "    children=[\n",
        "        html.Div( \n",
        "            children=[\n",
        "                html.H1( #It represents a heading\n",
        "                    children=\"Share Analysis\", #Heading Contents\n",
        "                    style={\"color\": \"#FFFFFF\",\"fontSize\": \"48px\",\"fontWeight\": \"bold\",\"marginTop\": \"32px\",}, #These are the various styling options used\n",
        "                ),\n",
        "                html.P( #It represents a paragraph\n",
        "                    children=\"This Dashboard analyses the price as well as volume traded of the shares of Tata Motors between 2016 and 2021.\", #Paragraph Contents\n",
        "                    style={\"color\": \"#FFFFFF\",\"margin\": \"4px auto\",\"maxWidth\": \"384px\",}, #These are the various styling options used\n",
        "                ),\n",
        "            ],\n",
        "            style={\"backgroundColor\": \"#222222\",\"height\": \"288px\",\"padding\": \"16px 0 0 0\",\"textAlign\": \"center\", #These are the various styling options used for the whole division \n",
        "},\n",
        "        ),\n",
        "        html.Div( #It represents a Division\n",
        "            children=[\n",
        "                html.Div(\n",
        "                    children=[\n",
        "                        html.Div(children=\"Trend of the Share\", \n",
        "                                 style={\"marginBottom\": \"6px\",\"fontWeight\": \"bold\",\"color\": \"#222222\",}, #These are the various styling options used\n",
        "                              ),\n",
        "                        dcc.Dropdown( #It represents a dropdown menu\n",
        "                            id=\"trend-filter\", #It is the identifier\n",
        "                            options=[{\"label\": trend, \"value\": trend} for trend in np.sort(options)], #These are the options of the dropdown menu\n",
        "                            value=\"Open\", #Default Value\n",
        "                            clearable=False, # Means the field cannot be empty\n",
        "                            style={\"width\": \"256px\",\"height\": \"47px\",\"fontWeight\": \"bold\",}, #These are the various styling options used\n",
        "                        ),\n",
        "                    ]\n",
        "                ),\n",
        "\n",
        "                html.Div( #It represents a Division\n",
        "                    children=[\n",
        "                        html.Div(\n",
        "                            children=\"Duration\",\n",
        "                            style={\"marginBottom\": \"6px\",\"fontWeight\": \"bold\",\"color\": \"#222222\",}, #These are the various styling options used\n",
        "                            ),\n",
        "                        dcc.DatePickerRange( #It represents a Date Pick Menu\n",
        "                            id=\"date-range\", #It is the identifier\n",
        "                            min_date_allowed=data.Date.min().date(), #Minimum Date of the Menu\n",
        "                            max_date_allowed=data.Date.max().date(), #Maximum Date of the Menu\n",
        "                            start_date=data.Date.min().date(), #Start Date of the Menu\n",
        "                            end_date=data.Date.max().date(), #End Date of the Menu\n",
        "                        ),\n",
        "                    ]\n",
        "                ),\n",
        "            ],\n",
        "            style={\"height\": \"112px\",\"width\": \"912px\",\"display\": \"flex\",\"justifyContent\": \"space-evenly\",\"paddingTop\": \"24px\",\"margin\": \"-80px auto 0 auto\",\"backgroundColor\": \"#FFFFFF\",\"boxShadow\": \"0 4px 6px 0 rgba(0, 0, 0, 0.18)\",}, #These are the various styling options used\n",
        "        ),\n",
        "        html.Div(\n",
        "            children=[\n",
        "                html.Div(\n",
        "                    children=dcc.Graph( #It represents a Graph\n",
        "                        id=\"price-chart\", config={\"displayModeBar\": False},\n",
        "                    ),\n",
        "                    style={\"marginBottom\": \"24px\",\"boxShadow\": \"0 4px 6px 0 rgba(0, 0, 0, 0.18)\", #These are the various styling options used\n",
        "},\n",
        "                ),\n",
        "                html.Div(\n",
        "                    children=dcc.Graph( #It represents a Graph\n",
        "                        id=\"volume-chart\", config={\"displayModeBar\": False},\n",
        "                    ),\n",
        "                    style={\"marginBottom\": \"24px\",\"boxShadow\": \"0 4px 6px 0 rgba(0, 0, 0, 0.18)\", #These are the various styling options used\n",
        "},\n",
        "                ),\n",
        "            ],\n",
        "            style={\"marginRight\": \"auto\",\"marginLeft\": \"auto\",\"maxWidth\": \"1024px\",\"paddingRight\": \"10px\",\"paddingLeft\": \"10px\",\"marginTop\": \"32px\",}, #These are the various styling options used\n",
        "        ),\n",
        "    ]\n",
        ")\n",
        "\n",
        "#Call back functions get trigerred when there is a change in input and subsequently they provide with the new output\n",
        "#In our Case we would be providing the share trend and duration as the inputs and would get two output plots\n",
        "#Through these call back functions we are able generate a new ouput whenever we change the input parameters\n",
        "@app.callback(\n",
        "    [Output(\"price-chart\", \"figure\"), Output(\"volume-chart\", \"figure\")],\n",
        "    [\n",
        "        Input(\"trend-filter\", \"value\"),\n",
        "        Input(\"date-range\", \"start_date\"),\n",
        "        Input(\"date-range\", \"end_date\"),\n",
        "    ],\n",
        ")\n",
        "def update_charts(trend, start_date, end_date):\n",
        "    mask = ((data.Date >= start_date)\n",
        "        & (data.Date <= end_date)\n",
        "    )\n",
        "    filtered_data = data.loc[mask, :] #Filters the data based on the duration  provided\n",
        "\n",
        "    if trend == 'High v/s Low': #Plots the graph for the specified trend\n",
        "      price_chart_figure = go.Figure() #Initialises the plot\n",
        "      price_chart_figure.add_trace(go.Scatter(x=filtered_data[\"Date\"], y=filtered_data[\"High\"], #Adds the data fields and mode\n",
        "                    mode='lines+markers',\n",
        "                    name='High'))\n",
        "      \n",
        "      price_chart_figure.add_trace(go.Scatter(x=filtered_data[\"Date\"], y=filtered_data[\"Low\"], #Adds the data fields and mode\n",
        "                    mode='lines+markers',\n",
        "                    name='Low'))\n",
        "      \n",
        "      price_chart_figure.update_layout(title='Variation of the Highest and Lowest Price ', #Adds the graph title and the respective axis titles\n",
        "                   xaxis_title='Duration',\n",
        "                   yaxis_title='Price of the Share (Rs)')\n",
        "      \n",
        "    elif trend == 'Open v/s Close': #Plots the graph for the specified trend\n",
        "      price_chart_figure = go.Figure() #Initialises the plot\n",
        "      price_chart_figure.add_trace(go.Scatter(x=filtered_data[\"Date\"], y=filtered_data[\"Open\"], #Adds the data fields and mode\n",
        "                    mode='lines+markers',\n",
        "                    name='Open',))\n",
        "      \n",
        "      price_chart_figure.add_trace(go.Scatter(x=filtered_data[\"Date\"], y=filtered_data[\"Close\"], #Adds the data fields and mode\n",
        "                    mode='lines+markers',\n",
        "                    name='Close'))\n",
        "      \n",
        "      price_chart_figure.update_layout(title='Variation of the Opening and Closing Price ', #Adds the graph title and the respective axis titles\n",
        "                   xaxis_title='Duration',\n",
        "                   yaxis_title='Price of the Share(Rs)')\n",
        "      \n",
        "    else: #Plots the graph for the specified trend\n",
        "      price_chart_figure = go.Figure() #Initialises the plot\n",
        "      price_chart_figure.add_trace(go.Scatter(x=filtered_data[\"Date\"], y=filtered_data[trend], #Adds the data fields and mode\n",
        "                    mode='lines+markers',))\n",
        "      \n",
        "      price_chart_figure.update_layout(title='Variation of the Share Price', #Adds the graph title and the respective axis titles\n",
        "                   xaxis_title='Duration',\n",
        "                   yaxis_title='Price of the Share(Rs)')\n",
        "\n",
        "    volume_chart_figure = go.Figure() #Initialises the plot\n",
        "    volume_chart_figure.add_trace(go.Scatter(x=filtered_data[\"Date\"], y=filtered_data[\"Volume\"], #Adds the data fields and mode\n",
        "                    mode='lines+markers',))\n",
        "      \n",
        "    volume_chart_figure.update_layout(title='Variation of the Volume of Shares Traded', #Adds the graph title and the respective axis titles\n",
        "                   xaxis_title='Duration',\n",
        "                   yaxis_title='Volume of Shares Traded(millions)')\n",
        "    \n",
        "    return price_chart_figure, volume_chart_figure #Returns the two plots\n",
        "\n",
        "#Through this section of the code we run our application locally using flasks built in server\n",
        "if __name__ == \"__main__\": \n",
        "    app.run_server(mode='inline',port=8030) #Specifying mode and port"
      ],
      "execution_count": 36,
      "outputs": [
        {
          "output_type": "display_data",
          "data": {
            "application/javascript": [
              "(async (port, path, width, height, cache, element) => {\n",
              "    if (!google.colab.kernel.accessAllowed && !cache) {\n",
              "      return;\n",
              "    }\n",
              "    element.appendChild(document.createTextNode(''));\n",
              "    const url = await google.colab.kernel.proxyPort(port, {cache});\n",
              "    const iframe = document.createElement('iframe');\n",
              "    iframe.src = new URL(path, url).toString();\n",
              "    iframe.height = height;\n",
              "    iframe.width = width;\n",
              "    iframe.style.border = 0;\n",
              "    element.appendChild(iframe);\n",
              "  })(8030, \"/\", \"100%\", 650, false, window.element)"
            ],
            "text/plain": [
              "<IPython.core.display.Javascript object>"
            ]
          },
          "metadata": {}
        }
      ]
    }
  ]
}